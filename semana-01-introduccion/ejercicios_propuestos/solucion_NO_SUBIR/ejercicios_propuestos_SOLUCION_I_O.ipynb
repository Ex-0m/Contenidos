{
 "cells": [
  {
   "cell_type": "markdown",
   "metadata": {},
   "source": [
    "<p>\n",
    "<font size='5' face='Georgia, Arial'>IIC-2233 Apunte Programación Avanzada</font><br>\n",
    "</p>\n",
    "\n",
    "\n",
    "# Ejercicios propuestos: _Input/Output_\n",
    "## I/O de archivos"
   ]
  },
  {
   "cell_type": "markdown",
   "metadata": {},
   "source": [
    "El siguiente problemas se provee como oportunidad de ejercitar los conceptos revisados en el material de **I/O de archivos**."
   ]
  },
  {
   "cell_type": "markdown",
   "metadata": {},
   "source": [
    "### Ejercicio 1: Usando distintos encodings"
   ]
  },
  {
   "cell_type": "markdown",
   "metadata": {},
   "source": [
    "Crea un archivo que contenga el siguiente texto:\n",
    "```\n",
    "¡Estoy emocionado por la fiesta de mañana! 🎉🥳 Voy a preparar mi famoso guacamole con 🥑, 🍅 y un toque secreto de 🌶️. Espero que todos se diviertan y que no llueva ☔️. ¡Nos vemos allí! 😄👋\n",
    "```\n",
    "\n",
    "Guarda el texto en un archivo y prueba abrirlo con los siguientes _encodings_: `utf-8`, `latin-1`, `ascii`. ¿El texto se mantiene o presenta cambios? ¿Se pudo abrir el archivo con todos los _encoding_ o presenta problemas con algunos de estos? ¿Pasará lo mismo con otros textos?\n"
   ]
  },
  {
   "cell_type": "code",
   "execution_count": 2,
   "metadata": {},
   "outputs": [],
   "source": [
    "texto = '¡Estoy emocionado por la fiesta de mañana! 🎉🥳 ' \\\n",
    "    'Voy a preparar mi famoso guacamole con 🥑, 🍅 y un toque secreto de 🌶️. ' \\\n",
    "    'Espero que todos se diviertan y que no llueva ☔️. ¡Nos vemos allí! 😄👋'"
   ]
  },
  {
   "cell_type": "code",
   "execution_count": 3,
   "metadata": {},
   "outputs": [],
   "source": [
    "with open(f'archivo', 'w') as file:\n",
    "    file.write(texto)"
   ]
  },
  {
   "cell_type": "code",
   "execution_count": 9,
   "metadata": {},
   "outputs": [
    {
     "name": "stdout",
     "output_type": "stream",
     "text": [
      "utf-8\n",
      "\n",
      "¡Estoy emocionado por la fiesta de mañana! 🎉🥳 Voy a preparar mi famoso guacamole con 🥑, 🍅 y un toque secreto de 🌶️. Espero que todos se diviertan y que no llueva ☔️. ¡Nos vemos allí! 😄👋\n",
      "\n",
      "latin-1\n",
      "\n",
      "Â¡Estoy emocionado por la fiesta de maÃ±ana! ðð¥³ Voy a preparar mi famoso guacamole con ð¥, ð",
      " y un toque secreto de ð¶ï¸. Espero que todos se diviertan y que no llueva âï¸. Â¡Nos vemos allÃ­! ðð\n",
      "\n",
      "ascii\n",
      "\n"
     ]
    },
    {
     "ename": "UnicodeDecodeError",
     "evalue": "'ascii' codec can't decode byte 0xc2 in position 0: ordinal not in range(128)",
     "output_type": "error",
     "traceback": [
      "\u001b[0;31m---------------------------------------------------------------------------\u001b[0m",
      "\u001b[0;31mUnicodeDecodeError\u001b[0m                        Traceback (most recent call last)",
      "Input \u001b[0;32mIn [9]\u001b[0m, in \u001b[0;36m<cell line: 1>\u001b[0;34m()\u001b[0m\n\u001b[1;32m      3\u001b[0m \u001b[38;5;28mprint\u001b[39m(i)\n\u001b[1;32m      4\u001b[0m \u001b[38;5;28mprint\u001b[39m()\n\u001b[0;32m----> 5\u001b[0m \u001b[38;5;28mprint\u001b[39m(\u001b[43mfile\u001b[49m\u001b[38;5;241;43m.\u001b[39;49m\u001b[43mread\u001b[49m\u001b[43m(\u001b[49m\u001b[43m)\u001b[49m)\n\u001b[1;32m      6\u001b[0m \u001b[38;5;28mprint\u001b[39m()\n",
      "File \u001b[0;32m~/.pyenv/versions/3.9.10/lib/python3.9/encodings/ascii.py:26\u001b[0m, in \u001b[0;36mIncrementalDecoder.decode\u001b[0;34m(self, input, final)\u001b[0m\n\u001b[1;32m     25\u001b[0m \u001b[38;5;28;01mdef\u001b[39;00m \u001b[38;5;21mdecode\u001b[39m(\u001b[38;5;28mself\u001b[39m, \u001b[38;5;28minput\u001b[39m, final\u001b[38;5;241m=\u001b[39m\u001b[38;5;28;01mFalse\u001b[39;00m):\n\u001b[0;32m---> 26\u001b[0m     \u001b[38;5;28;01mreturn\u001b[39;00m \u001b[43mcodecs\u001b[49m\u001b[38;5;241;43m.\u001b[39;49m\u001b[43mascii_decode\u001b[49m\u001b[43m(\u001b[49m\u001b[38;5;28;43minput\u001b[39;49m\u001b[43m,\u001b[49m\u001b[43m \u001b[49m\u001b[38;5;28;43mself\u001b[39;49m\u001b[38;5;241;43m.\u001b[39;49m\u001b[43merrors\u001b[49m\u001b[43m)\u001b[49m[\u001b[38;5;241m0\u001b[39m]\n",
      "\u001b[0;31mUnicodeDecodeError\u001b[0m: 'ascii' codec can't decode byte 0xc2 in position 0: ordinal not in range(128)"
     ]
    }
   ],
   "source": [
    "for i in ['utf-8', 'latin-1', 'ascii']:\n",
    "    with open(f'archivo', 'r', encoding=i) as file:\n",
    "        print(i)\n",
    "        print()\n",
    "        print(file.read())\n",
    "        print()"
   ]
  },
  {
   "cell_type": "markdown",
   "metadata": {},
   "source": [
    "### Ejercicio 2: Utilizando el parámetro `errors`"
   ]
  },
  {
   "cell_type": "markdown",
   "metadata": {},
   "source": [
    "Realiza el mismo ejercicio anterior, pero ahora utiliza `errors='replace'` en el `open` para verificar qué sucede. ¿Hay caracteres que se pierden? ¿cuáles?"
   ]
  },
  {
   "cell_type": "code",
   "execution_count": 8,
   "metadata": {},
   "outputs": [
    {
     "name": "stdout",
     "output_type": "stream",
     "text": [
      "utf-8\n",
      "\n",
      "¡Estoy emocionado por la fiesta de mañana! 🎉🥳 Voy a preparar mi famoso guacamole con 🥑, 🍅 y un toque secreto de 🌶️. Espero que todos se diviertan y que no llueva ☔️. ¡Nos vemos allí! 😄👋\n",
      "\n",
      "latin-1\n",
      "\n",
      "Â¡Estoy emocionado por la fiesta de maÃ±ana! ðð¥³ Voy a preparar mi famoso guacamole con ð¥, ð",
      " y un toque secreto de ð¶ï¸. Espero que todos se diviertan y que no llueva âï¸. Â¡Nos vemos allÃ­! ðð\n",
      "\n",
      "ascii\n",
      "\n",
      "��Estoy emocionado por la fiesta de ma��ana! �������� Voy a preparar mi famoso guacamole con ����, ���� y un toque secreto de �������. Espero que todos se diviertan y que no llueva ������. ��Nos vemos all��! ��������\n",
      "\n"
     ]
    }
   ],
   "source": [
    "for i in ['utf-8', 'latin-1', 'ascii']:\n",
    "    with open(f'archivo', 'r', encoding=i, errors=\"replace\") as file:\n",
    "        print(i)\n",
    "        print()\n",
    "        print(file.read())\n",
    "        print()"
   ]
  },
  {
   "cell_type": "code",
   "execution_count": null,
   "metadata": {},
   "outputs": [],
   "source": []
  }
 ],
 "metadata": {
  "kernelspec": {
   "display_name": "Python 3 (ipykernel)",
   "language": "python",
   "name": "python3"
  },
  "language_info": {
   "codemirror_mode": {
    "name": "ipython",
    "version": 3
   },
   "file_extension": ".py",
   "mimetype": "text/x-python",
   "name": "python",
   "nbconvert_exporter": "python",
   "pygments_lexer": "ipython3",
   "version": "3.9.10"
  }
 },
 "nbformat": 4,
 "nbformat_minor": 2
}
