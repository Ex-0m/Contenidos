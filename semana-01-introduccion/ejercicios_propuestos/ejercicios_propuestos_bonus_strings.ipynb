{
 "cells": [
  {
   "cell_type": "markdown",
   "metadata": {},
   "source": [
    "<p>\n",
    "<font size='5' face='Georgia, Arial'>IIC-2233 Apunte Programación Avanzada</font><br>\n",
    "<font size='1'> Actualizados el 2024-1.</font>\n",
    "</p>\n",
    "\n",
    "\n",
    "# Ejercicios propuestos: _Strings_\n",
    "## (Bonus) Mejorando la impresión de los *Strings*"
   ]
  },
  {
   "cell_type": "markdown",
   "metadata": {},
   "source": [
    "El siguiente problema se provee como oportunidad de ejercitar un concepto **bonus** revisados en el material de **Contenidos mínimos**."
   ]
  },
  {
   "cell_type": "markdown",
   "metadata": {},
   "source": [
    "### Ejercicio 1: Tablas con format"
   ]
  },
  {
   "cell_type": "markdown",
   "metadata": {},
   "source": [
    "Utiliza tus conocimientos de strings y format (o f-strings) para mostrar los platos de un restaurante de comida hindú. \n",
    "\n",
    "Como mínimo deberás procurar que tu menú:\n",
    "* Muestre la información ordenada en una tabla.\n",
    "* Los precios de los platos tengan el símbolo de peso ($) alineado a la izquierda, pero que a la vez los números estén alineados a la derecha.\n",
    "* El nivel de picante y si el plato es vegetariano o no se muestre utilizando algún símbolo.\n",
    "\n",
    "A continuación se muestra como se vería un posible resultado:\n",
    "```\n",
    "       Nombre        |  Precio  | Picante | Vegetariano\n",
    "-------------------- | -------- | ------- | ----------\n",
    "Pollo Tikka Masala   | $  8,500 |   ###   | \n",
    "Paneer Butter Masala | $  9,500 |   ##    | 🌿\n",
    "Biryani de Cordero   | $ 11,500 |  ####   | \n",
    "Samosas              | $  3,500 |   ##    | 🌿\n",
    "Dal Makhani          | $  7,500 |    #    | 🌿\n",
    "Tandoori Chicken     | $  9,000 |   ###   | \n",
    "Chana Masala         | $  7,500 |   ##    | 🌿\n",
    "Rogan Josh           | $ 10,500 |  ####   | \n",
    "Aloo Gobi            | $  6,500 |   ##    | 🌿\n",
    "Malai Kofta          | $  9,500 |   ##    | 🌿\n",
    "```"
   ]
  },
  {
   "cell_type": "code",
   "execution_count": 1,
   "metadata": {},
   "outputs": [],
   "source": [
    "class Plato:\n",
    "    def __init__(self, nombre: str, precio: int, nivel_picante: int, es_vegetariano: bool):\n",
    "        self.nombre = nombre\n",
    "        self.precio = precio\n",
    "        self.nivel_picante = nivel_picante\n",
    "        self.es_vegetariano = es_vegetariano\n",
    "\n",
    "menu = [\n",
    "    Plato(\"Pollo Tikka Masala\", 8500, 3, False),\n",
    "    Plato(\"Paneer Butter Masala\", 9500, 2, True),\n",
    "    Plato(\"Biryani de Cordero\", 11500, 4, False),\n",
    "    Plato(\"Samosas\", 3500, 2, True),\n",
    "    Plato(\"Dal Makhani\", 7500, 1, True),\n",
    "    Plato(\"Tandoori Chicken\", 9000, 3, False),\n",
    "    Plato(\"Chana Masala\", 7500, 2, True),\n",
    "    Plato(\"Rogan Josh\", 10500, 4, False),\n",
    "    Plato(\"Aloo Gobi\", 6500, 2, True),\n",
    "    Plato(\"Malai Kofta\", 9500, 2, True)\n",
    "]"
   ]
  },
  {
   "cell_type": "code",
   "execution_count": null,
   "metadata": {},
   "outputs": [],
   "source": []
  }
 ],
 "metadata": {
  "kernelspec": {
   "display_name": "Python 3 (ipykernel)",
   "language": "python",
   "name": "python3"
  },
  "language_info": {
   "codemirror_mode": {
    "name": "ipython",
    "version": 3
   },
   "file_extension": ".py",
   "mimetype": "text/x-python",
   "name": "python",
   "nbconvert_exporter": "python",
   "pygments_lexer": "ipython3",
   "version": "3.11.7"
  },
  "vscode": {
   "interpreter": {
    "hash": "a3a63619a7d9caf1f944c17a21d0e2ba5f9b4e8cf352ed74fca5bac06f551692"
   }
  }
 },
 "nbformat": 4,
 "nbformat_minor": 4
}
