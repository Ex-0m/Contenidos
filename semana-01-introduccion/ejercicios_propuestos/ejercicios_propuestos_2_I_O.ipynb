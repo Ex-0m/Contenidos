{
 "cells": [
  {
   "cell_type": "markdown",
   "metadata": {},
   "source": [
    "<p>\n",
    "<font size='5' face='Georgia, Arial'>IIC-2233 Apunte Programación Avanzada</font><br>\n",
    "</p>\n",
    "\n",
    "\n",
    "# Ejercicios propuestos: _Input/Output_\n",
    "## I/O de archivos"
   ]
  },
  {
   "cell_type": "markdown",
   "metadata": {},
   "source": [
    "Los siguientes problemas se provee como oportunidad de ejercitar los conceptos revisados en el material de **I/O de archivos**."
   ]
  },
  {
   "cell_type": "markdown",
   "metadata": {},
   "source": [
    "### Ejercicio 1: Usando distintos encodings"
   ]
  },
  {
   "cell_type": "markdown",
   "metadata": {},
   "source": [
    "Crea un archivo que contenga el siguiente texto:\n",
    "```\n",
    "¡Estoy emocionado por la fiesta de mañana! 🎉🥳 Voy a preparar mi famoso guacamole con 🥑, 🍅 y un toque secreto de 🌶️. Espero que todos se diviertan y que no llueva ☔️. ¡Nos vemos allí! 😄👋\n",
    "```\n",
    "\n",
    "Guarda el texto en un archivo con el _encoding_ que tu desees. Luego prueba abrirlo con los siguientes _encodings_: `utf-8`, `latin-1`, `ascii`. ¿El texto se mantiene o presenta cambios? ¿Se pudo abrir el archivo con todos los _encoding_ o presenta problemas con algunos de estos? ¿Pasará lo mismo con otros textos?\n"
   ]
  },
  {
   "cell_type": "code",
   "execution_count": 1,
   "metadata": {},
   "outputs": [],
   "source": [
    "texto = '¡Estoy emocionado por la fiesta de mañana! 🎉🥳 ' \\\n",
    "    'Voy a preparar mi famoso guacamole con 🥑, 🍅 y un toque secreto de 🌶️. ' \\\n",
    "    'Espero que todos se diviertan y que no llueva ☔️. ¡Nos vemos allí! 😄👋'"
   ]
  },
  {
   "cell_type": "code",
   "execution_count": 2,
   "metadata": {},
   "outputs": [],
   "source": [
    "# Completar"
   ]
  },
  {
   "cell_type": "markdown",
   "metadata": {},
   "source": [
    "### Ejercicio 2: Utilizando el parámetro `errors`"
   ]
  },
  {
   "cell_type": "markdown",
   "metadata": {},
   "source": [
    "Realiza el mismo ejercicio anterior, pero ahora utiliza `errors='replace'` en el `open` para verificar qué sucede. ¿Hay caracteres que se pierden? ¿cuáles?"
   ]
  },
  {
   "cell_type": "code",
   "execution_count": 3,
   "metadata": {},
   "outputs": [],
   "source": [
    "# Completar"
   ]
  }
 ],
 "metadata": {
  "kernelspec": {
   "display_name": "Python 3 (ipykernel)",
   "language": "python",
   "name": "python3"
  },
  "language_info": {
   "codemirror_mode": {
    "name": "ipython",
    "version": 3
   },
   "file_extension": ".py",
   "mimetype": "text/x-python",
   "name": "python",
   "nbconvert_exporter": "python",
   "pygments_lexer": "ipython3",
   "version": "3.11.7"
  }
 },
 "nbformat": 4,
 "nbformat_minor": 4
}
